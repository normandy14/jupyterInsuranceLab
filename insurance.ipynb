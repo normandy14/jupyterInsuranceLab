{
 "cells": [
  {
   "cell_type": "code",
   "execution_count": 73,
   "id": "148eae05-7fdc-461e-8d78-5982e47171c8",
   "metadata": {},
   "outputs": [],
   "source": [
    "import numpy as np"
   ]
  },
  {
   "cell_type": "code",
   "execution_count": 74,
   "id": "ac9f1074-eb3a-43c0-a501-affe5cc0f600",
   "metadata": {},
   "outputs": [],
   "source": [
    "import pandas as pd"
   ]
  },
  {
   "cell_type": "code",
   "execution_count": 75,
   "id": "bf98484d-d409-4132-9c39-d770952a4785",
   "metadata": {},
   "outputs": [],
   "source": [
    "from scipy import stats"
   ]
  },
  {
   "cell_type": "code",
   "execution_count": 76,
   "id": "224107ea-f11d-4b4e-a3cc-70e87ec1373b",
   "metadata": {},
   "outputs": [],
   "source": [
    "import matplotlib as plt"
   ]
  },
  {
   "cell_type": "code",
   "execution_count": 77,
   "id": "0a6d16e7-ee55-4f15-8baf-7cfd4f8d341f",
   "metadata": {},
   "outputs": [],
   "source": [
    "from sklearn.linear_model import LinearRegression"
   ]
  },
  {
   "cell_type": "code",
   "execution_count": 78,
   "id": "c374ca7c-04d7-4962-8ef7-3b1a2f53b946",
   "metadata": {},
   "outputs": [],
   "source": [
    "import sqlite3"
   ]
  },
  {
   "cell_type": "code",
   "execution_count": 79,
   "id": "e290fdf7-7a4c-4655-8631-ad7e622eceff",
   "metadata": {},
   "outputs": [],
   "source": [
    "import pprint"
   ]
  },
  {
   "cell_type": "code",
   "execution_count": 80,
   "id": "69c018ef-bc45-4b83-b284-918f855f4974",
   "metadata": {},
   "outputs": [],
   "source": [
    "# load CSV data to Pandas\n",
    "df = pd.read_csv('insurance.csv')"
   ]
  },
  {
   "cell_type": "code",
   "execution_count": 81,
   "id": "0a8a353c-b0f6-452e-af48-993f59f7e651",
   "metadata": {},
   "outputs": [],
   "source": [
    "# connect to SQLite database\n",
    "conn = sqlite3.connect('insurance.db')"
   ]
  },
  {
   "cell_type": "code",
   "execution_count": 82,
   "id": "95a250db-f31f-487c-85b0-700f6544d9d4",
   "metadata": {},
   "outputs": [
    {
     "data": {
      "text/plain": [
       "1338"
      ]
     },
     "execution_count": 82,
     "metadata": {},
     "output_type": "execute_result"
    }
   ],
   "source": [
    "# write the data to a SQLite table\n",
    "df.to_sql('customer', conn, if_exists='replace', index=True)"
   ]
  },
  {
   "cell_type": "code",
   "execution_count": 83,
   "id": "6596cd8e-165e-43d7-8edf-cb56adf1da6a",
   "metadata": {},
   "outputs": [],
   "source": [
    "# create a cursor database\n",
    "cur = conn.cursor()"
   ]
  },
  {
   "cell_type": "code",
   "execution_count": 84,
   "id": "ab8fc038-0704-4342-b5e1-f8bc96c1153d",
   "metadata": {},
   "outputs": [],
   "source": [
    "rows = [row for row in cur.execute('SELECT * FROM customer')]"
   ]
  },
  {
   "cell_type": "code",
   "execution_count": 85,
   "id": "e1fb6a14-b722-403e-a884-d3435b1053b3",
   "metadata": {},
   "outputs": [
    {
     "name": "stdout",
     "output_type": "stream",
     "text": [
      "[(0, 19, 'female', 27.9, 0, 'yes', 'southwest', 16884.924),\n",
      " (1, 18, 'male', 33.77, 1, 'no', 'southeast', 1725.5523),\n",
      " (2, 28, 'male', 33.0, 3, 'no', 'southeast', 4449.462),\n",
      " (3, 33, 'male', 22.705, 0, 'no', 'northwest', 21984.47061),\n",
      " (4, 32, 'male', 28.88, 0, 'no', 'northwest', 3866.8552),\n",
      " (5, 31, 'female', 25.74, 0, 'no', 'southeast', 3756.6216),\n",
      " (6, 46, 'female', 33.44, 1, 'no', 'southeast', 8240.5896),\n",
      " (7, 37, 'female', 27.74, 3, 'no', 'northwest', 7281.5056),\n",
      " (8, 37, 'male', 29.83, 2, 'no', 'northeast', 6406.4107),\n",
      " (9, 60, 'female', 25.84, 0, 'no', 'northwest', 28923.13692)]\n"
     ]
    }
   ],
   "source": [
    "pprint.pprint(rows[0:10])"
   ]
  },
  {
   "cell_type": "code",
   "execution_count": 86,
   "id": "6305dc4f-cdad-4560-81d0-29be91f4fe4a",
   "metadata": {},
   "outputs": [
    {
     "data": {
      "text/plain": [
       "Index(['age', 'sex', 'bmi', 'children', 'smoker', 'region', 'charges'], dtype='object')"
      ]
     },
     "execution_count": 86,
     "metadata": {},
     "output_type": "execute_result"
    }
   ],
   "source": [
    "df.columns"
   ]
  },
  {
   "cell_type": "code",
   "execution_count": 87,
   "id": "7a0696ab-f6e9-42b9-85ed-13f2932fe2ed",
   "metadata": {},
   "outputs": [],
   "source": [
    "# Now the means"
   ]
  },
  {
   "cell_type": "code",
   "execution_count": 88,
   "id": "be0ecff6-33c3-44c3-8e28-bcae2aed3aba",
   "metadata": {},
   "outputs": [
    {
     "data": {
      "text/plain": [
       "39.21"
      ]
     },
     "execution_count": 88,
     "metadata": {},
     "output_type": "execute_result"
    }
   ],
   "source": [
    "round(df['age'].mean(), 2)"
   ]
  },
  {
   "cell_type": "code",
   "execution_count": 89,
   "id": "e163b6b5-d16b-4933-821f-c6e4c1080640",
   "metadata": {},
   "outputs": [
    {
     "data": {
      "text/plain": [
       "30.66"
      ]
     },
     "execution_count": 89,
     "metadata": {},
     "output_type": "execute_result"
    }
   ],
   "source": [
    "round(df['bmi'].mean(), 2)"
   ]
  },
  {
   "cell_type": "code",
   "execution_count": 90,
   "id": "65b9ddb9-66b7-4d16-8886-eda5e9d73582",
   "metadata": {},
   "outputs": [
    {
     "data": {
      "text/plain": [
       "1.09"
      ]
     },
     "execution_count": 90,
     "metadata": {},
     "output_type": "execute_result"
    }
   ],
   "source": [
    "round(df['children'].mean(), 2)"
   ]
  },
  {
   "cell_type": "code",
   "execution_count": 91,
   "id": "c875956d-9643-4769-ad14-d3038efee4d3",
   "metadata": {},
   "outputs": [
    {
     "data": {
      "text/plain": [
       "13270.42"
      ]
     },
     "execution_count": 91,
     "metadata": {},
     "output_type": "execute_result"
    }
   ],
   "source": [
    "round(df['charges'].mean(), 2)"
   ]
  },
  {
   "cell_type": "code",
   "execution_count": 92,
   "id": "884dfa13-1c72-45b4-b50d-82a75df03f24",
   "metadata": {},
   "outputs": [],
   "source": [
    "# Now the medians"
   ]
  },
  {
   "cell_type": "code",
   "execution_count": 93,
   "id": "68f38e60-403d-441d-8df2-20098a2ade8f",
   "metadata": {},
   "outputs": [
    {
     "data": {
      "text/plain": [
       "39.0"
      ]
     },
     "execution_count": 93,
     "metadata": {},
     "output_type": "execute_result"
    }
   ],
   "source": [
    "round(df['age'].median(), 2)"
   ]
  },
  {
   "cell_type": "code",
   "execution_count": 94,
   "id": "ba021856-a0b7-4da9-b4af-6972f2063170",
   "metadata": {},
   "outputs": [
    {
     "data": {
      "text/plain": [
       "30.4"
      ]
     },
     "execution_count": 94,
     "metadata": {},
     "output_type": "execute_result"
    }
   ],
   "source": [
    "round(df['bmi'].median(), 2)"
   ]
  },
  {
   "cell_type": "code",
   "execution_count": 95,
   "id": "399b1277-1ee2-409e-bcc2-d6b16c7e1569",
   "metadata": {},
   "outputs": [
    {
     "data": {
      "text/plain": [
       "1.0"
      ]
     },
     "execution_count": 95,
     "metadata": {},
     "output_type": "execute_result"
    }
   ],
   "source": [
    "round(df['children'].median(), 2)"
   ]
  },
  {
   "cell_type": "code",
   "execution_count": 96,
   "id": "ce6ea491-93a1-41ea-9301-ee7b17191271",
   "metadata": {},
   "outputs": [
    {
     "data": {
      "text/plain": [
       "9382.03"
      ]
     },
     "execution_count": 96,
     "metadata": {},
     "output_type": "execute_result"
    }
   ],
   "source": [
    "round(df['charges'].median(), 2)"
   ]
  },
  {
   "cell_type": "code",
   "execution_count": 97,
   "id": "3560acd6-6e61-413f-aefc-8a7842b0f449",
   "metadata": {},
   "outputs": [],
   "source": [
    "# The difference between df[x].mean() and df[x].median() seems small for each variable\n",
    "# Is this a very normally distributed data set?"
   ]
  },
  {
   "cell_type": "code",
   "execution_count": 98,
   "id": "64308ec5-dbc9-4bb6-9328-74f6bef31736",
   "metadata": {},
   "outputs": [],
   "source": [
    "from matplotlib import pyplot as plt"
   ]
  },
  {
   "cell_type": "code",
   "execution_count": 99,
   "id": "3ff2fa1b-05b2-414b-890c-7ab796423118",
   "metadata": {},
   "outputs": [
    {
     "data": {
      "image/png": "[encoded data removed]",
      "text/plain": [
       "<Figure size 720x504 with 1 Axes>"
      ]
     },
     "metadata": {
      "needs_background": "light"
     },
     "output_type": "display_data"
    }
   ],
   "source": [
    "fig, ax = plt.subplots(figsize =(10, 7))\n",
    "ax.hist(df['age'], bins = [0, 5, 10, 15, 20, 25, 30, 35, 40, 45, 50, 55, 60, 65, 70, 75, 80, 85, 90, 95, 100])\n",
    "# Show plot\n",
    "plt.show()"
   ]
  },
  {
   "cell_type": "code",
   "execution_count": 100,
   "id": "77ac5c64-fbe4-4ee5-a675-2fe840255a3a",
   "metadata": {},
   "outputs": [],
   "source": [
    "# The age histogram seems uniformly distributed"
   ]
  },
  {
   "cell_type": "code",
   "execution_count": 101,
   "id": "f5af41f1-1af9-4708-9a6b-ec44e76359a2",
   "metadata": {},
   "outputs": [
    {
     "data": {
      "image/png": "[encoded data removed]",
      "text/plain": [
       "<Figure size 720x504 with 1 Axes>"
      ]
     },
     "metadata": {
      "needs_background": "light"
     },
     "output_type": "display_data"
    }
   ],
   "source": [
    "fig, ax = plt.subplots(figsize =(10, 7))\n",
    "ax.hist(df['bmi'], bins = [0, 5, 10, 15, 20, 25, 30, 35, 40, 45, 50, 55, 60, 65, 70, 75, 80, 85, 90, 95, 100])\n",
    "# Show plot\n",
    "plt.show()"
   ]
  },
  {
   "cell_type": "code",
   "execution_count": 102,
   "id": "1fae818f-f311-4984-9ce9-e421a2da6d54",
   "metadata": {},
   "outputs": [],
   "source": [
    "# BMI seems more normally distributed, with a strong central tendency with little variability"
   ]
  },
  {
   "cell_type": "code",
   "execution_count": 103,
   "id": "4e05c107-ed09-4661-908e-64b502a54298",
   "metadata": {},
   "outputs": [
    {
     "data": {
      "image/png": "[encoded data removed]",
      "text/plain": [
       "<Figure size 720x504 with 1 Axes>"
      ]
     },
     "metadata": {
      "needs_background": "light"
     },
     "output_type": "display_data"
    }
   ],
   "source": [
    "fig, ax = plt.subplots(figsize =(10, 7))\n",
    "ax.hist(df['children'], bins = [0, 1, 2, 3, 4, 5])\n",
    "# Show plot\n",
    "plt.show()"
   ]
  },
  {
   "cell_type": "code",
   "execution_count": 104,
   "id": "4396eed2-4919-4051-8141-d894cf75632e",
   "metadata": {},
   "outputs": [
    {
     "data": {
      "text/plain": [
       "5"
      ]
     },
     "execution_count": 104,
     "metadata": {},
     "output_type": "execute_result"
    }
   ],
   "source": [
    "df['children'].max()"
   ]
  },
  {
   "cell_type": "code",
   "execution_count": 105,
   "id": "36fb5c03-0616-4a2d-97eb-2a6c93f96ae9",
   "metadata": {},
   "outputs": [],
   "source": [
    "# seems to be normally distributed and strongly rightly skewed"
   ]
  },
  {
   "cell_type": "code",
   "execution_count": 106,
   "id": "4b4dbd02-8165-44ea-9512-3d27a95058b0",
   "metadata": {},
   "outputs": [],
   "source": [
    "bins = [x for x in range(0, 65000, 1500)]"
   ]
  },
  {
   "cell_type": "code",
   "execution_count": 107,
   "id": "d8bf1c82-6294-4ee6-8fe1-fd8c90b38220",
   "metadata": {},
   "outputs": [
    {
     "data": {
      "image/png": "[encoded data removed]",
      "text/plain": [
       "<Figure size 720x504 with 1 Axes>"
      ]
     },
     "metadata": {
      "needs_background": "light"
     },
     "output_type": "display_data"
    }
   ],
   "source": [
    "fig, ax = plt.subplots(figsize =(10, 7))\n",
    "ax.hist(df['charges'], bins)\n",
    "# Show plot\n",
    "plt.show()"
   ]
  },
  {
   "cell_type": "code",
   "execution_count": 108,
   "id": "293e0b37-217e-4b53-9b52-30c74c5f9706",
   "metadata": {},
   "outputs": [
    {
     "data": {
      "text/plain": [
       "63770.43"
      ]
     },
     "execution_count": 108,
     "metadata": {},
     "output_type": "execute_result"
    }
   ],
   "source": [
    "round(df['charges'].max(), 2)"
   ]
  },
  {
   "cell_type": "code",
   "execution_count": 109,
   "id": "4ad05104-aa9b-4c5c-9f48-4a3d800dd0e8",
   "metadata": {},
   "outputs": [
    {
     "data": {
      "text/plain": [
       "1121.87"
      ]
     },
     "execution_count": 109,
     "metadata": {},
     "output_type": "execute_result"
    }
   ],
   "source": [
    "round(df['charges'].min(), 2)"
   ]
  },
  {
   "cell_type": "code",
   "execution_count": 110,
   "id": "988e62fc-d95e-4137-ae46-5d50d781ad52",
   "metadata": {},
   "outputs": [],
   "source": [
    "# seems to be normally distributed and strongly rightly skewed"
   ]
  },
  {
   "cell_type": "code",
   "execution_count": 111,
   "id": "dc926717-d9d4-4d4c-9d94-540e0655be0b",
   "metadata": {
    "tags": []
   },
   "outputs": [
    {
     "data": {
      "image/png": "[encoded data removed]",
      "text/plain": [
       "<Figure size 432x288 with 1 Axes>"
      ]
     },
     "metadata": {
      "needs_background": "light"
     },
     "output_type": "display_data"
    }
   ],
   "source": [
    "boxplot = df.boxplot(grid=False, column=['age']) "
   ]
  },
  {
   "cell_type": "code",
   "execution_count": 112,
   "id": "2a0dcfb5-afe0-42ca-87c6-73624b42aa8c",
   "metadata": {
    "tags": []
   },
   "outputs": [
    {
     "data": {
      "image/png": "[encoded data removed]",
      "text/plain": [
       "<Figure size 432x288 with 1 Axes>"
      ]
     },
     "metadata": {
      "needs_background": "light"
     },
     "output_type": "display_data"
    }
   ],
   "source": [
    "boxplot = df.boxplot(grid=False, column=['bmi']) "
   ]
  },
  {
   "cell_type": "code",
   "execution_count": 113,
   "id": "fae2e912-1aff-47c1-ab33-a76bba1b6c7a",
   "metadata": {},
   "outputs": [
    {
     "data": {
      "image/png": "[encoded data removed]",
      "text/plain": [
       "<Figure size 432x288 with 1 Axes>"
      ]
     },
     "metadata": {
      "needs_background": "light"
     },
     "output_type": "display_data"
    }
   ],
   "source": [
    "boxplot = df.boxplot(grid=False, column=['children']) "
   ]
  },
  {
   "cell_type": "code",
   "execution_count": 114,
   "id": "95b39cf1-3fa0-4582-96c5-b3015d5b54e1",
   "metadata": {},
   "outputs": [],
   "source": [
    "# there are no outliers but the mean is 1 and the 100 percentile is 5"
   ]
  },
  {
   "cell_type": "code",
   "execution_count": 115,
   "id": "bfa95356-6725-47be-9855-001d4cd890ec",
   "metadata": {},
   "outputs": [
    {
     "data": {
      "image/png": "[encoded data removed]",
      "text/plain": [
       "<Figure size 432x288 with 1 Axes>"
      ]
     },
     "metadata": {
      "needs_background": "light"
     },
     "output_type": "display_data"
    }
   ],
   "source": [
    "boxplot = df.boxplot(grid=False, column=['charges']) "
   ]
  },
  {
   "cell_type": "code",
   "execution_count": 116,
   "id": "047a355e-433e-4534-a5c0-fa741a382a49",
   "metadata": {},
   "outputs": [],
   "source": [
    "# there are many outiers for charges. 100 percentuke seems to be approx 35000, and max to be approx 65000"
   ]
  },
  {
   "cell_type": "code",
   "execution_count": 117,
   "id": "dcf959ee-597e-46de-a3a1-e041961bfe25",
   "metadata": {},
   "outputs": [
    {
     "data": {
      "text/plain": [
       "39.06"
      ]
     },
     "execution_count": 117,
     "metadata": {},
     "output_type": "execute_result"
    }
   ],
   "source": [
    "round(stats.trim_mean(df[['age']], 0.05)[0], 2)"
   ]
  },
  {
   "cell_type": "code",
   "execution_count": 118,
   "id": "148f875c-7e1e-4864-951f-e6ddfab9b401",
   "metadata": {},
   "outputs": [
    {
     "data": {
      "text/plain": [
       "30.55"
      ]
     },
     "execution_count": 118,
     "metadata": {},
     "output_type": "execute_result"
    }
   ],
   "source": [
    "round(stats.trim_mean(df[['bmi']], 0.05)[0], 2)"
   ]
  },
  {
   "cell_type": "code",
   "execution_count": 119,
   "id": "cd112ebb-f088-48f6-ba67-2ea3a7b30ad4",
   "metadata": {},
   "outputs": [
    {
     "data": {
      "text/plain": [
       "1.0"
      ]
     },
     "execution_count": 119,
     "metadata": {},
     "output_type": "execute_result"
    }
   ],
   "source": [
    "round(stats.trim_mean(df[['children']], 0.05)[0], 2)"
   ]
  },
  {
   "cell_type": "code",
   "execution_count": 120,
   "id": "d9e6eac9-d8c5-4800-86d6-f19fb015ea52",
   "metadata": {},
   "outputs": [
    {
     "data": {
      "text/plain": [
       "12086.09"
      ]
     },
     "execution_count": 120,
     "metadata": {},
     "output_type": "execute_result"
    }
   ],
   "source": [
    "round(stats.trim_mean(df[['charges']], 0.05)[0], 2)"
   ]
  },
  {
   "cell_type": "code",
   "execution_count": 121,
   "id": "50ab1369-7e30-4ba4-aaba-29ac4b9abe23",
   "metadata": {},
   "outputs": [],
   "source": [
    "# The use of a trimmed mean helps eliminate the influence of outliers or data points on the tails that may unfairly affect the traditional or arithmetic mean."
   ]
  },
  {
   "cell_type": "code",
   "execution_count": 122,
   "id": "a38f13cc-7747-4ac6-9384-cab5aaddd773",
   "metadata": {},
   "outputs": [
    {
     "data": {
      "text/plain": [
       "18"
      ]
     },
     "execution_count": 122,
     "metadata": {},
     "output_type": "execute_result"
    }
   ],
   "source": [
    "df['age'].mode()[0]"
   ]
  },
  {
   "cell_type": "code",
   "execution_count": 123,
   "id": "d45f4c07-2bee-4111-9ae1-336a245d2e8a",
   "metadata": {},
   "outputs": [
    {
     "data": {
      "text/plain": [
       "32.3"
      ]
     },
     "execution_count": 123,
     "metadata": {},
     "output_type": "execute_result"
    }
   ],
   "source": [
    "df['bmi'].mode()[0]"
   ]
  },
  {
   "cell_type": "code",
   "execution_count": 124,
   "id": "3eca4b66-bbff-497f-a4d7-b7c3c1eeb402",
   "metadata": {},
   "outputs": [
    {
     "data": {
      "text/plain": [
       "0"
      ]
     },
     "execution_count": 124,
     "metadata": {},
     "output_type": "execute_result"
    }
   ],
   "source": [
    "df['children'].mode()[0]"
   ]
  },
  {
   "cell_type": "code",
   "execution_count": 125,
   "id": "69a34edc-912b-480f-ac64-b03280ac18ae",
   "metadata": {},
   "outputs": [
    {
     "data": {
      "text/plain": [
       "1639.56"
      ]
     },
     "execution_count": 125,
     "metadata": {},
     "output_type": "execute_result"
    }
   ],
   "source": [
    "round(df['charges'].mode()[0], 2)"
   ]
  },
  {
   "cell_type": "code",
   "execution_count": 126,
   "id": "3b40c041-29b3-4a58-9d04-16ccc618a2b1",
   "metadata": {},
   "outputs": [],
   "source": [
    "# now we move onto variability"
   ]
  },
  {
   "cell_type": "code",
   "execution_count": 127,
   "id": "1c60e269-942c-4798-adcd-62d7e6487ad6",
   "metadata": {},
   "outputs": [
    {
     "data": {
      "text/plain": [
       "197.4"
      ]
     },
     "execution_count": 127,
     "metadata": {},
     "output_type": "execute_result"
    }
   ],
   "source": [
    "round(df['age'].var(), 2)"
   ]
  },
  {
   "cell_type": "code",
   "execution_count": 128,
   "id": "77e50055-4a27-40ea-85b3-129680f228ce",
   "metadata": {},
   "outputs": [
    {
     "data": {
      "text/plain": [
       "14.05"
      ]
     },
     "execution_count": 128,
     "metadata": {},
     "output_type": "execute_result"
    }
   ],
   "source": [
    "round(df['age'].std(), 2)"
   ]
  },
  {
   "cell_type": "code",
   "execution_count": 129,
   "id": "41998767-c284-42cf-9f1a-77bdc6982c9c",
   "metadata": {},
   "outputs": [
    {
     "data": {
      "text/plain": [
       "37.19"
      ]
     },
     "execution_count": 129,
     "metadata": {},
     "output_type": "execute_result"
    }
   ],
   "source": [
    "round(df['bmi'].var(), 2)"
   ]
  },
  {
   "cell_type": "code",
   "execution_count": 130,
   "id": "afc274ee-2059-47a6-a7e6-6ac8d90350c2",
   "metadata": {},
   "outputs": [
    {
     "data": {
      "text/plain": [
       "6.1"
      ]
     },
     "execution_count": 130,
     "metadata": {},
     "output_type": "execute_result"
    }
   ],
   "source": [
    "round(df['bmi'].std(), 2)"
   ]
  },
  {
   "cell_type": "code",
   "execution_count": 131,
   "id": "2c66083b-5eba-4562-8926-7a83b0d404fa",
   "metadata": {},
   "outputs": [
    {
     "data": {
      "text/plain": [
       "1.45"
      ]
     },
     "execution_count": 131,
     "metadata": {},
     "output_type": "execute_result"
    }
   ],
   "source": [
    "round(df['children'].var(), 2)"
   ]
  },
  {
   "cell_type": "code",
   "execution_count": 132,
   "id": "c67e67f7-b2d8-443f-b035-b8da9efe4820",
   "metadata": {},
   "outputs": [
    {
     "data": {
      "text/plain": [
       "1.21"
      ]
     },
     "execution_count": 132,
     "metadata": {},
     "output_type": "execute_result"
    }
   ],
   "source": [
    "round(df['children'].std(), 2)"
   ]
  },
  {
   "cell_type": "code",
   "execution_count": 133,
   "id": "455a416a-dd02-498f-a253-110ec65e283e",
   "metadata": {},
   "outputs": [
    {
     "data": {
      "text/plain": [
       "146652372.15"
      ]
     },
     "execution_count": 133,
     "metadata": {},
     "output_type": "execute_result"
    }
   ],
   "source": [
    "round(df['charges'].var(), 2)"
   ]
  },
  {
   "cell_type": "code",
   "execution_count": 134,
   "id": "3e98487e-366e-43f1-b800-56fd3b7a29db",
   "metadata": {},
   "outputs": [
    {
     "data": {
      "text/plain": [
       "12110.01"
      ]
     },
     "execution_count": 134,
     "metadata": {},
     "output_type": "execute_result"
    }
   ],
   "source": [
    "round(df['charges'].std(), 2)"
   ]
  },
  {
   "cell_type": "code",
   "execution_count": 135,
   "id": "398b0023-4ba7-42a4-93e9-891240ca044d",
   "metadata": {},
   "outputs": [
    {
     "data": {
      "text/plain": [
       "46"
      ]
     },
     "execution_count": 135,
     "metadata": {},
     "output_type": "execute_result"
    }
   ],
   "source": [
    "df['age'].max() - df['age'].min()"
   ]
  },
  {
   "cell_type": "code",
   "execution_count": 136,
   "id": "ed4c7f84-d8bc-451d-9a6c-aa4e1ae5145d",
   "metadata": {},
   "outputs": [
    {
     "data": {
      "text/plain": [
       "37.17"
      ]
     },
     "execution_count": 136,
     "metadata": {},
     "output_type": "execute_result"
    }
   ],
   "source": [
    "df['bmi'].max() - df['bmi'].min()"
   ]
  },
  {
   "cell_type": "code",
   "execution_count": 137,
   "id": "2255dad7-7bd4-41d1-889a-46b848e90b4b",
   "metadata": {},
   "outputs": [
    {
     "data": {
      "text/plain": [
       "5"
      ]
     },
     "execution_count": 137,
     "metadata": {},
     "output_type": "execute_result"
    }
   ],
   "source": [
    "df['children'].max() - df['children'].min()"
   ]
  },
  {
   "cell_type": "code",
   "execution_count": 138,
   "id": "225f5708-bed6-43a2-8a6b-54b6257f01fe",
   "metadata": {},
   "outputs": [
    {
     "data": {
      "text/plain": [
       "62648.55"
      ]
     },
     "execution_count": 138,
     "metadata": {},
     "output_type": "execute_result"
    }
   ],
   "source": [
    "round(df['charges'].max() - df['charges'].min(), 2)"
   ]
  },
  {
   "cell_type": "code",
   "execution_count": 139,
   "id": "d2c7f488-b65d-454f-b6f6-573be5cf46a0",
   "metadata": {},
   "outputs": [
    {
     "ename": "TypeError",
     "evalue": "unsupported operand type(s) for -: 'str' and 'str'",
     "output_type": "error",
     "traceback": [
      "\u001b[0;31m---------------------------------------------------------------------------\u001b[0m",
      "\u001b[0;31mTypeError\u001b[0m                                 Traceback (most recent call last)",
      "Input \u001b[0;32mIn [139]\u001b[0m, in \u001b[0;36m<cell line: 1>\u001b[0;34m()\u001b[0m\n\u001b[0;32m----> 1\u001b[0m \u001b[38;5;28mround\u001b[39m(\u001b[43mdf\u001b[49m\u001b[43m[\u001b[49m\u001b[38;5;124;43m'\u001b[39;49m\u001b[38;5;124;43mregion\u001b[39;49m\u001b[38;5;124;43m'\u001b[39;49m\u001b[43m]\u001b[49m\u001b[38;5;241;43m.\u001b[39;49m\u001b[43mmax\u001b[49m\u001b[43m(\u001b[49m\u001b[43m)\u001b[49m\u001b[43m \u001b[49m\u001b[38;5;241;43m-\u001b[39;49m\u001b[43m \u001b[49m\u001b[43mdf\u001b[49m\u001b[43m[\u001b[49m\u001b[38;5;124;43m'\u001b[39;49m\u001b[38;5;124;43mregion\u001b[39;49m\u001b[38;5;124;43m'\u001b[39;49m\u001b[43m]\u001b[49m\u001b[38;5;241;43m.\u001b[39;49m\u001b[43mmin\u001b[49m\u001b[43m(\u001b[49m\u001b[43m)\u001b[49m, \u001b[38;5;241m2\u001b[39m)\n",
      "\u001b[0;31mTypeError\u001b[0m: unsupported operand type(s) for -: 'str' and 'str'"
     ]
    }
   ],
   "source": [
    "round(df['region'].max() - df['region'].min(), 2)"
   ]
  },
  {
   "cell_type": "code",
   "execution_count": 140,
   "id": "3005b573-e571-4c14-a57a-7cd2afd474bd",
   "metadata": {},
   "outputs": [],
   "source": [
    "# we calulated the range, another method to measure spread"
   ]
  },
  {
   "cell_type": "code",
   "execution_count": 141,
   "id": "47401a15-b5b5-4528-b32d-bd181f12c290",
   "metadata": {},
   "outputs": [
    {
     "data": {
      "image/png": "[encoded data removed]",
      "text/plain": [
       "<Figure size 432x288 with 1 Axes>"
      ]
     },
     "metadata": {
      "needs_background": "light"
     },
     "output_type": "display_data"
    }
   ],
   "source": [
    "ax1 = df.plot.scatter(x='age',\n",
    "...                       y='charges',\n",
    "...                       c='DarkBlue')"
   ]
  },
  {
   "cell_type": "code",
   "execution_count": 142,
   "id": "eb80188d-15a3-4c79-8013-df11919868a5",
   "metadata": {},
   "outputs": [],
   "source": [
    "# seems to be a slight positive relationship between age and charges"
   ]
  },
  {
   "cell_type": "code",
   "execution_count": 143,
   "id": "2d862b74-9934-497e-a452-8c58b243e461",
   "metadata": {},
   "outputs": [
    {
     "data": {
      "image/png": "[encoded data removed]",
      "text/plain": [
       "<Figure size 432x288 with 1 Axes>"
      ]
     },
     "metadata": {
      "needs_background": "light"
     },
     "output_type": "display_data"
    }
   ],
   "source": [
    "ax1 = df.plot.scatter(x='bmi',\n",
    "...                       y='charges',\n",
    "...                       c='DarkBlue')"
   ]
  },
  {
   "cell_type": "code",
   "execution_count": 144,
   "id": "8e0dd0ee-453b-4e52-8e77-d786fe47025a",
   "metadata": {},
   "outputs": [],
   "source": [
    "# seems to be a slight positive relationship between bmi and charges"
   ]
  },
  {
   "cell_type": "code",
   "execution_count": 145,
   "id": "5f2323a7-23aa-4ef0-ab50-8ce7adc580a8",
   "metadata": {},
   "outputs": [
    {
     "data": {
      "image/png": "[encoded data removed]",
      "text/plain": [
       "<Figure size 432x288 with 1 Axes>"
      ]
     },
     "metadata": {
      "needs_background": "light"
     },
     "output_type": "display_data"
    }
   ],
   "source": [
    "ax1 = df.plot.scatter(x='children',\n",
    "...                       y='charges',\n",
    "...                       c='DarkBlue')"
   ]
  },
  {
   "cell_type": "code",
   "execution_count": 146,
   "id": "4b4e8816-620b-415d-b2e1-5994742c708e",
   "metadata": {},
   "outputs": [],
   "source": [
    "# seems to be a slight negative relationship between children and charges"
   ]
  },
  {
   "cell_type": "code",
   "execution_count": 147,
   "id": "226fa0ce-b50d-4a94-8cad-d32e69b521fa",
   "metadata": {},
   "outputs": [
    {
     "data": {
      "image/png": "[encoded data removed]",
      "text/plain": [
       "<Figure size 432x288 with 1 Axes>"
      ]
     },
     "metadata": {
      "needs_background": "light"
     },
     "output_type": "display_data"
    }
   ],
   "source": [
    "ax1 = df.plot.scatter(x='charges',\n",
    "...                       y='charges',\n",
    "...                       c='DarkBlue')"
   ]
  },
  {
   "cell_type": "code",
   "execution_count": 148,
   "id": "a2a8f1ff-ef1f-4d5d-bd68-503c7203b68d",
   "metadata": {},
   "outputs": [],
   "source": [
    "# a perfect relationship between charges and charges"
   ]
  },
  {
   "cell_type": "code",
   "execution_count": 149,
   "id": "67df000c-ab79-4f11-8f35-19086c0c9b76",
   "metadata": {},
   "outputs": [
    {
     "data": {
      "image/png": "[encoded data removed]",
      "text/plain": [
       "<Figure size 432x288 with 1 Axes>"
      ]
     },
     "metadata": {
      "needs_background": "light"
     },
     "output_type": "display_data"
    }
   ],
   "source": [
    "ax1 = df.plot.scatter(x='smoker',\n",
    "...                       y='charges',\n",
    "...                       c='DarkBlue')"
   ]
  },
  {
   "cell_type": "code",
   "execution_count": 150,
   "id": "76969556-5e6f-43f9-b08c-6c46219da31a",
   "metadata": {},
   "outputs": [],
   "source": [
    "# seems to be a slight negative relationship between smoker and charges"
   ]
  },
  {
   "cell_type": "code",
   "execution_count": 151,
   "id": "ed3e990f-029b-4c26-bd5a-4f370210a6be",
   "metadata": {},
   "outputs": [
    {
     "data": {
      "image/png": "[encoded data removed]",
      "text/plain": [
       "<Figure size 432x288 with 1 Axes>"
      ]
     },
     "metadata": {
      "needs_background": "light"
     },
     "output_type": "display_data"
    }
   ],
   "source": [
    "ax1 = df.plot.scatter(x='region',\n",
    "...                       y='charges',\n",
    "...                       c='DarkBlue')"
   ]
  },
  {
   "cell_type": "code",
   "execution_count": 152,
   "id": "d0516ebe-b700-4497-aa0e-052b1b182418",
   "metadata": {},
   "outputs": [],
   "source": [
    "# seems to be no relationship between region and charges"
   ]
  },
  {
   "cell_type": "code",
   "execution_count": 153,
   "id": "d99c4412-20ef-490a-ac84-fd8ed866580f",
   "metadata": {},
   "outputs": [],
   "source": [
    "x = np.array(df['age']).reshape(-1,1)"
   ]
  },
  {
   "cell_type": "code",
   "execution_count": 154,
   "id": "5b223fa9-d895-4e82-8adf-8afc55a7df98",
   "metadata": {},
   "outputs": [],
   "source": [
    "y = np.array(df['charges'])"
   ]
  },
  {
   "cell_type": "code",
   "execution_count": 155,
   "id": "3973e27e-5dfe-417d-8e55-1305465f8c59",
   "metadata": {},
   "outputs": [],
   "source": [
    "model = LinearRegression()"
   ]
  },
  {
   "cell_type": "markdown",
   "id": "aebeddfc-caa7-4371-b406-8e783e4b82c7",
   "metadata": {},
   "source": [
    "model.fit(x, y)"
   ]
  },
  {
   "cell_type": "code",
   "execution_count": 156,
   "id": "11749a2e-c758-497f-aa9e-aadcd924a18b",
   "metadata": {},
   "outputs": [],
   "source": [
    "model = LinearRegression().fit(x, y)"
   ]
  },
  {
   "cell_type": "code",
   "execution_count": 157,
   "id": "d6f29cab-4d3c-4903-8a47-b813d6f55ff4",
   "metadata": {},
   "outputs": [],
   "source": [
    "r_sq = model.score(x, y)"
   ]
  },
  {
   "cell_type": "code",
   "execution_count": 158,
   "id": "819d36bd-a809-4ca3-9662-f6aee68ecf8e",
   "metadata": {},
   "outputs": [
    {
     "name": "stdout",
     "output_type": "stream",
     "text": [
      "0.09\n"
     ]
    }
   ],
   "source": [
    "print (round(r_sq, 2))"
   ]
  },
  {
   "cell_type": "code",
   "execution_count": 159,
   "id": "5e614f43-ec0b-4dd8-9fe2-12cce59d9454",
   "metadata": {},
   "outputs": [],
   "source": [
    "# 9% of the variance found in charges is due to the variable age"
   ]
  },
  {
   "cell_type": "code",
   "execution_count": 160,
   "id": "ea1bbae6-b9dc-4e39-9d47-8c5d6f4f4831",
   "metadata": {},
   "outputs": [
    {
     "name": "stdout",
     "output_type": "stream",
     "text": [
      "intercept: 3165.89\n"
     ]
    }
   ],
   "source": [
    "print('intercept:', round(model.intercept_, 2))"
   ]
  },
  {
   "cell_type": "code",
   "execution_count": 161,
   "id": "48e46756-2aa6-4c23-bd75-5a457d5da8f3",
   "metadata": {},
   "outputs": [
    {
     "name": "stdout",
     "output_type": "stream",
     "text": [
      "slope: 257.72\n"
     ]
    }
   ],
   "source": [
    "print('slope:', round(model.coef_[0], 2))"
   ]
  },
  {
   "cell_type": "code",
   "execution_count": 162,
   "id": "eade508c-baff-4201-9dce-8c5c4034309e",
   "metadata": {},
   "outputs": [],
   "source": [
    "x = np.array(df['bmi']).reshape(-1,1)"
   ]
  },
  {
   "cell_type": "code",
   "execution_count": 163,
   "id": "810f1bc1-6b6a-45eb-a6d5-252b2b93357e",
   "metadata": {},
   "outputs": [],
   "source": [
    "y = np.array(df['charges'])"
   ]
  },
  {
   "cell_type": "code",
   "execution_count": 164,
   "id": "d890e6a2-a783-4ed0-887a-0f65114c37ba",
   "metadata": {},
   "outputs": [],
   "source": [
    "model = LinearRegression()"
   ]
  },
  {
   "cell_type": "code",
   "execution_count": 165,
   "id": "6df50c10-f7f1-4b63-8692-15cd7c9a3650",
   "metadata": {},
   "outputs": [],
   "source": [
    "model = LinearRegression().fit(x, y)"
   ]
  },
  {
   "cell_type": "code",
   "execution_count": 166,
   "id": "6bd919fe-3ef0-4386-82ba-fa9aa8d911e8",
   "metadata": {},
   "outputs": [],
   "source": [
    "r_sq = model.score(x, y)"
   ]
  },
  {
   "cell_type": "code",
   "execution_count": 167,
   "id": "88bdf5e7-1463-44cc-85e1-36afbf537785",
   "metadata": {},
   "outputs": [
    {
     "name": "stdout",
     "output_type": "stream",
     "text": [
      "0.04\n"
     ]
    }
   ],
   "source": [
    "print (round(r_sq, 2))"
   ]
  },
  {
   "cell_type": "code",
   "execution_count": 168,
   "id": "638e4db6-eea1-4b75-b485-96effaa32cb9",
   "metadata": {},
   "outputs": [],
   "source": [
    "# 4% of the variance found in charges is due to the variable bmi"
   ]
  },
  {
   "cell_type": "code",
   "execution_count": 169,
   "id": "7aafa402-4433-46ca-a59e-c89edaeabdec",
   "metadata": {},
   "outputs": [
    {
     "name": "stdout",
     "output_type": "stream",
     "text": [
      "intercept: 1192.94\n"
     ]
    }
   ],
   "source": [
    "print('intercept:', round(model.intercept_, 2))"
   ]
  },
  {
   "cell_type": "code",
   "execution_count": 170,
   "id": "a7e6734a-9584-4cf3-945f-b579fac26e97",
   "metadata": {},
   "outputs": [
    {
     "name": "stdout",
     "output_type": "stream",
     "text": [
      "slope: 393.87\n"
     ]
    }
   ],
   "source": [
    "print('slope:', round(model.coef_[0], 2))"
   ]
  },
  {
   "cell_type": "code",
   "execution_count": 171,
   "id": "6d1b4f67-0f27-4003-9618-04eaadbaec2b",
   "metadata": {},
   "outputs": [],
   "source": [
    "x = np.array(df['children']).reshape(-1,1)"
   ]
  },
  {
   "cell_type": "code",
   "execution_count": 172,
   "id": "bf8b3c54-bc8a-4a81-98bd-d14cd42da6cd",
   "metadata": {},
   "outputs": [],
   "source": [
    "y = np.array(df['charges'])\n"
   ]
  },
  {
   "cell_type": "code",
   "execution_count": 173,
   "id": "acd960b4-1ade-41ab-ab23-b6b705135a03",
   "metadata": {},
   "outputs": [],
   "source": [
    "model = LinearRegression()"
   ]
  },
  {
   "cell_type": "code",
   "execution_count": 174,
   "id": "2b2de456-570e-4de1-ad6f-3053b326955d",
   "metadata": {},
   "outputs": [],
   "source": [
    "model = LinearRegression().fit(x, y)"
   ]
  },
  {
   "cell_type": "code",
   "execution_count": 175,
   "id": "3ed2f845-9b15-4f74-9c9f-faeb592b96fb",
   "metadata": {},
   "outputs": [],
   "source": [
    "r_sq = model.score(x, y)"
   ]
  },
  {
   "cell_type": "code",
   "execution_count": 176,
   "id": "db9a5c1e-c4e1-4d4e-a976-4e5d0c85e390",
   "metadata": {},
   "outputs": [
    {
     "name": "stdout",
     "output_type": "stream",
     "text": [
      "0.0\n"
     ]
    }
   ],
   "source": [
    "print (round(r_sq, 2))"
   ]
  },
  {
   "cell_type": "code",
   "execution_count": 177,
   "id": "c8631024-c1fe-4184-b30a-2328004dc403",
   "metadata": {},
   "outputs": [],
   "source": [
    "# 0% of the variability of charges is from the variable children\n",
    "# There is no need to investigate this simple regression model forward"
   ]
  },
  {
   "cell_type": "code",
   "execution_count": 178,
   "id": "0861be60-a92e-48d3-bb25-11eac5ebb0de",
   "metadata": {},
   "outputs": [
    {
     "data": {
      "text/html": [
       "<div>\n",
       "<style scoped>\n",
       "    .dataframe tbody tr th:only-of-type {\n",
       "        vertical-align: middle;\n",
       "    }\n",
       "\n",
       "    .dataframe tbody tr th {\n",
       "        vertical-align: top;\n",
       "    }\n",
       "\n",
       "    .dataframe thead th {\n",
       "        text-align: right;\n",
       "    }\n",
       "</style>\n",
       "<table border=\"1\" class=\"dataframe\">\n",
       "  <thead>\n",
       "    <tr style=\"text-align: right;\">\n",
       "      <th></th>\n",
       "      <th>age</th>\n",
       "      <th>bmi</th>\n",
       "      <th>children</th>\n",
       "      <th>charges</th>\n",
       "    </tr>\n",
       "  </thead>\n",
       "  <tbody>\n",
       "    <tr>\n",
       "      <th>age</th>\n",
       "      <td>1.000000</td>\n",
       "      <td>0.109272</td>\n",
       "      <td>0.042469</td>\n",
       "      <td>0.299008</td>\n",
       "    </tr>\n",
       "    <tr>\n",
       "      <th>bmi</th>\n",
       "      <td>0.109272</td>\n",
       "      <td>1.000000</td>\n",
       "      <td>0.012759</td>\n",
       "      <td>0.198341</td>\n",
       "    </tr>\n",
       "    <tr>\n",
       "      <th>children</th>\n",
       "      <td>0.042469</td>\n",
       "      <td>0.012759</td>\n",
       "      <td>1.000000</td>\n",
       "      <td>0.067998</td>\n",
       "    </tr>\n",
       "    <tr>\n",
       "      <th>charges</th>\n",
       "      <td>0.299008</td>\n",
       "      <td>0.198341</td>\n",
       "      <td>0.067998</td>\n",
       "      <td>1.000000</td>\n",
       "    </tr>\n",
       "  </tbody>\n",
       "</table>\n",
       "</div>"
      ],
      "text/plain": [
       "               age       bmi  children   charges\n",
       "age       1.000000  0.109272  0.042469  0.299008\n",
       "bmi       0.109272  1.000000  0.012759  0.198341\n",
       "children  0.042469  0.012759  1.000000  0.067998\n",
       "charges   0.299008  0.198341  0.067998  1.000000"
      ]
     },
     "execution_count": 178,
     "metadata": {},
     "output_type": "execute_result"
    }
   ],
   "source": [
    "df.corr()"
   ]
  },
  {
   "cell_type": "code",
   "execution_count": 179,
   "id": "08044796-7405-4547-ba73-2a6fbc66f7b3",
   "metadata": {},
   "outputs": [],
   "source": [
    "# the greatet correlation with charges is age with .30 correlation"
   ]
  },
  {
   "cell_type": "code",
   "execution_count": null,
   "id": "e54b20cf-1ae2-4167-879c-c415218ffeef",
   "metadata": {},
   "outputs": [],
   "source": []
  }
 ],
 "metadata": {
  "kernelspec": {
   "display_name": "Python 3 (ipykernel)",
   "language": "python",
   "name": "python3"
  },
  "language_info": {
   "codemirror_mode": {
    "name": "ipython",
    "version": 3
   },
   "file_extension": ".py",
   "mimetype": "text/x-python",
   "name": "python",
   "nbconvert_exporter": "python",
   "pygments_lexer": "ipython3",
   "version": "3.9.2"
  }
 },
 "nbformat": 4,
 "nbformat_minor": 5
}
