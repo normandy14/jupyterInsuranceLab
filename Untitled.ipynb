{
 "cells": [
  {
   "cell_type": "code",
   "execution_count": 11,
   "id": "148eae05-7fdc-461e-8d78-5982e47171c8",
   "metadata": {},
   "outputs": [],
   "source": [
    "import numpy as np"
   ]
  },
  {
   "cell_type": "code",
   "execution_count": 12,
   "id": "ac9f1074-eb3a-43c0-a501-affe5cc0f600",
   "metadata": {},
   "outputs": [],
   "source": [
    "import pandas as pd"
   ]
  },
  {
   "cell_type": "code",
   "execution_count": 13,
   "id": "c374ca7c-04d7-4962-8ef7-3b1a2f53b946",
   "metadata": {},
   "outputs": [],
   "source": [
    "import sqlite3"
   ]
  },
  {
   "cell_type": "code",
   "execution_count": 14,
   "id": "3356fade-4b8d-4ba2-8628-c02967bb519c",
   "metadata": {},
   "outputs": [],
   "source": [
    "# connect to SQLite database\n",
    "conn = sqlite3.connect('insurance.db')"
   ]
  },
  {
   "cell_type": "code",
   "execution_count": 16,
   "id": "69c018ef-bc45-4b83-b284-918f855f4974",
   "metadata": {},
   "outputs": [],
   "source": [
    "# load CSV data to Pandas\n",
    "data = pd.read_csv('insurance.csv')"
   ]
  },
  {
   "cell_type": "code",
   "execution_count": 17,
   "id": "95a250db-f31f-487c-85b0-700f6544d9d4",
   "metadata": {},
   "outputs": [
    {
     "data": {
      "text/plain": [
       "1338"
      ]
     },
     "execution_count": 17,
     "metadata": {},
     "output_type": "execute_result"
    }
   ],
   "source": [
    "# write the data to a SQLite table\n",
    "data.to_sql('customer', conn, if_exists='replace', index=True)"
   ]
  },
  {
   "cell_type": "code",
   "execution_count": null,
   "id": "6596cd8e-165e-43d7-8edf-cb56adf1da6a",
   "metadata": {},
   "outputs": [],
   "source": []
  }
 ],
 "metadata": {
  "kernelspec": {
   "display_name": "Python 3 (ipykernel)",
   "language": "python",
   "name": "python3"
  },
  "language_info": {
   "codemirror_mode": {
    "name": "ipython",
    "version": 3
   },
   "file_extension": ".py",
   "mimetype": "text/x-python",
   "name": "python",
   "nbconvert_exporter": "python",
   "pygments_lexer": "ipython3",
   "version": "3.9.2"
  }
 },
 "nbformat": 4,
 "nbformat_minor": 5
}
